{
  "nbformat": 4,
  "nbformat_minor": 0,
  "metadata": {
    "colab": {
      "provenance": [],
      "collapsed_sections": [
        "IcqMMs8o-BV8"
      ],
      "authorship_tag": "ABX9TyO7pvTDyhH/rPvD0gFskSvT",
      "include_colab_link": true
    },
    "kernelspec": {
      "name": "python3",
      "display_name": "Python 3"
    },
    "language_info": {
      "name": "python"
    }
  },
  "cells": [
    {
      "cell_type": "markdown",
      "metadata": {
        "id": "view-in-github",
        "colab_type": "text"
      },
      "source": [
        "<a href=\"https://colab.research.google.com/github/PearlGrell/CS-2001/blob/main/CS_2001.ipynb\" target=\"_parent\"><img src=\"https://colab.research.google.com/assets/colab-badge.svg\" alt=\"Open In Colab\"/></a>"
      ]
    },
    {
      "cell_type": "markdown",
      "source": [
        "# Unit 1: Data Types and Operators\n"
      ],
      "metadata": {
        "id": "fUeHgfGk96i2"
      }
    },
    {
      "cell_type": "markdown",
      "source": [
        "## 1. Swapping Two Variables\n",
        "\n",
        "**Question:** Thor and Hulk are competing in a strength test. The scores are scored in variables. Swap their scores using only Python variables."
      ],
      "metadata": {
        "id": "IcqMMs8o-BV8"
      }
    },
    {
      "cell_type": "code",
      "source": [
        "thor : int = int(input(\"Enter Thor's score: \"))\n",
        "hulk : int = int(input(\"Enter Hulk's score: \"))\n",
        "\n",
        "print(\"Before swapping:\")\n",
        "print(\"Thor's score:\", thor)\n",
        "print(\"Hulk's score:\", hulk)\n",
        "\n",
        "thor, hulk = hulk, thor\n",
        "\n",
        "print(\"After swapping:\")\n",
        "print(\"Thor's score:\", thor)\n",
        "print(\"Hulk's score:\", hulk)"
      ],
      "metadata": {
        "colab": {
          "base_uri": "https://localhost:8080/"
        },
        "id": "Uqm5TeCg_Ki4",
        "outputId": "f1fea971-602c-4f3c-8426-9496f6e36ea1"
      },
      "execution_count": 2,
      "outputs": [
        {
          "output_type": "stream",
          "name": "stdout",
          "text": [
            "Enter Thor's score: 50\n",
            "Enter Hulk's score: 52\n",
            "Before swapping:\n",
            "Thor's score: 50\n",
            "Hulk's score: 52\n",
            "After swapping:\n",
            "Thor's score: 52\n",
            "Hulk's score: 50\n"
          ]
        }
      ]
    },
    {
      "cell_type": "markdown",
      "source": [
        "## 2. Type Casting\n",
        "\n",
        "**Question:** Hulk strength level is recorded as a string input 1000. Convert it into an integer and increase it by 200."
      ],
      "metadata": {
        "id": "GS2OfpNR_8WV"
      }
    },
    {
      "cell_type": "markdown",
      "source": [
        "##"
      ],
      "metadata": {
        "id": "7cUYl7oa_yFf"
      }
    }
  ]
}