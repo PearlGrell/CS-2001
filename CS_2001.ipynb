{
  "nbformat": 4,
  "nbformat_minor": 0,
  "metadata": {
    "colab": {
      "provenance": [],
      "collapsed_sections": [
        "IcqMMs8o-BV8"
      ],
      "include_colab_link": true
    },
    "kernelspec": {
      "name": "python3",
      "display_name": "Python 3"
    },
    "language_info": {
      "name": "python"
    }
  },
  "cells": [
    {
      "cell_type": "markdown",
      "metadata": {
        "id": "view-in-github",
        "colab_type": "text"
      },
      "source": [
        "<a href=\"https://colab.research.google.com/github/PearlGrell/CS-2001/blob/main/CS_2001.ipynb\" target=\"_parent\"><img src=\"https://colab.research.google.com/assets/colab-badge.svg\" alt=\"Open In Colab\"/></a>"
      ]
    },
    {
      "cell_type": "markdown",
      "source": [
        "# Unit 1: Data Types and Operators\n"
      ],
      "metadata": {
        "id": "fUeHgfGk96i2"
      }
    },
    {
      "cell_type": "markdown",
      "source": [
        "## 1. Swapping Two Variables\n",
        "\n",
        "**Question:** Thor and Hulk are competing in a strength test. The scores are scored in variables. Swap their scores using only Python variables."
      ],
      "metadata": {
        "id": "IcqMMs8o-BV8"
      }
    },
    {
      "cell_type": "code",
      "source": [
        "thor : int = int(input(\"Enter Thor's score: \"))\n",
        "hulk : int = int(input(\"Enter Hulk's score: \"))\n",
        "\n",
        "print(\"Before swapping:\")\n",
        "print(\"Thor's score:\", thor)\n",
        "print(\"Hulk's score:\", hulk)\n",
        "\n",
        "thor, hulk = hulk, thor\n",
        "\n",
        "print(\"After swapping:\")\n",
        "print(\"Thor's score:\", thor)\n",
        "print(\"Hulk's score:\", hulk)"
      ],
      "metadata": {
        "colab": {
          "base_uri": "https://localhost:8080/"
        },
        "id": "Uqm5TeCg_Ki4",
        "outputId": "f1fea971-602c-4f3c-8426-9496f6e36ea1"
      },
      "execution_count": null,
      "outputs": [
        {
          "output_type": "stream",
          "name": "stdout",
          "text": [
            "Enter Thor's score: 50\n",
            "Enter Hulk's score: 52\n",
            "Before swapping:\n",
            "Thor's score: 50\n",
            "Hulk's score: 52\n",
            "After swapping:\n",
            "Thor's score: 52\n",
            "Hulk's score: 50\n"
          ]
        }
      ]
    },
    {
      "cell_type": "markdown",
      "source": [
        "## 2. Hulk's Strength\n",
        "**Question:** Hulk strength level is recorded as a string input 1000. Convert it into an integer and increase it by 200."
      ],
      "metadata": {
        "id": "GS2OfpNR_8WV"
      }
    },
    {
      "cell_type": "code",
      "source": [
        "strength = \"1000\"\n",
        "strength = int(strength)\n",
        "strength += 200\n",
        "print(f\"Hulk's strength is {strength}\")"
      ],
      "metadata": {
        "colab": {
          "base_uri": "https://localhost:8080/"
        },
        "id": "kpSDTQdKDMjm",
        "outputId": "d8c016c6-88c4-41d2-d886-d86fcc8d3c48"
      },
      "execution_count": null,
      "outputs": [
        {
          "output_type": "stream",
          "name": "stdout",
          "text": [
            "Hulk's strength is 1200\n"
          ]
        }
      ]
    },
    {
      "cell_type": "markdown",
      "source": [
        "## 3. Gravitational **Force**\n",
        "\n",
        "**Question:** Thor's hammer weight is 5000 (int), but you need to calculate the gravitation force, which requires it as float.\n"
      ],
      "metadata": {
        "id": "IhnpdUHlA4vO"
      }
    },
    {
      "cell_type": "code",
      "source": [
        "weight = 5000\n",
        "force = 9.8 * 5000\n",
        "print(f\"Gravitational force is {force:.2f} N\")"
      ],
      "metadata": {
        "colab": {
          "base_uri": "https://localhost:8080/"
        },
        "id": "iM4XIrPoC3Ga",
        "outputId": "dd69354e-4e57-4b2f-bdda-4c9a157384de"
      },
      "execution_count": null,
      "outputs": [
        {
          "output_type": "stream",
          "name": "stdout",
          "text": [
            "Gravitational force is 49000.00 N\n"
          ]
        }
      ]
    },
    {
      "cell_type": "markdown",
      "source": [
        "## 4. Seconds to Hours\n",
        "\n",
        "**Question:** Loki gets input in seconds: \"3600\". Convert it to an integer and then to hours. Show final result as a float."
      ],
      "metadata": {
        "id": "cGekJ_JlBIax"
      }
    },
    {
      "cell_type": "code",
      "source": [
        "second = \"3600\"\n",
        "second = int(second)\n",
        "hour = second / 3600\n",
        "print(f\"Time in hours: {hour:.2f}\")"
      ],
      "metadata": {
        "colab": {
          "base_uri": "https://localhost:8080/"
        },
        "id": "CXIiRZ7YCtUh",
        "outputId": "7a1fcca6-f8da-4ca9-a9e1-b8daff5dcc0d"
      },
      "execution_count": null,
      "outputs": [
        {
          "output_type": "stream",
          "name": "stdout",
          "text": [
            "Time in hours: 1.00\n"
          ]
        }
      ]
    },
    {
      "cell_type": "markdown",
      "source": [
        "## 5. Find Accuracy\n",
        "\n",
        "**Question:** Iron Man recorded 7 hits out of 10 shots, both integers. Convert them into float and calculate the accuracy percentage."
      ],
      "metadata": {
        "id": "aDHk4IFnBV-H"
      }
    },
    {
      "cell_type": "code",
      "source": [
        "hit = 7\n",
        "total = 10\n",
        "\n",
        "hit = float(hit)\n",
        "total = float(total)\n",
        "\n",
        "accuracy = (hit / total) * 100\n",
        "\n",
        "print(f\"Accuracy is {accuracy:.2f}%\")"
      ],
      "metadata": {
        "colab": {
          "base_uri": "https://localhost:8080/"
        },
        "id": "D2kn80D_Cgk2",
        "outputId": "c99ad37a-dde9-4ba6-f8e1-f24498626394"
      },
      "execution_count": null,
      "outputs": [
        {
          "output_type": "stream",
          "name": "stdout",
          "text": [
            "Accuracy is 70.00%\n"
          ]
        }
      ]
    },
    {
      "cell_type": "markdown",
      "source": [
        "## Object Referencing\n",
        "\n",
        "1. Python variables hold references to an objects, not the actual object themselves.\n",
        "2. Reassigning a variable does not affect other variables referencing the same object unless explicitly updated.\n"
      ],
      "metadata": {
        "id": "mJId0osWEXPj"
      }
    },
    {
      "cell_type": "code",
      "source": [
        "# Example 1\n",
        "a = [1,2,3]\n",
        "b = a\n",
        "print(\"a original: \", a)\n",
        "\n",
        "b.append(4)\n",
        "\n",
        "print(\"a new: \", b)\n",
        "print(\"b: \", a)"
      ],
      "metadata": {
        "colab": {
          "base_uri": "https://localhost:8080/"
        },
        "id": "saeiDZSzG4hh",
        "outputId": "cec7ae16-9146-4292-8864-6f705eb1a114"
      },
      "execution_count": null,
      "outputs": [
        {
          "output_type": "stream",
          "name": "stdout",
          "text": [
            "a original:  [1, 2, 3]\n",
            "a new:  [1, 2, 3, 4]\n",
            "b:  [1, 2, 3, 4]\n"
          ]
        }
      ]
    },
    {
      "cell_type": "code",
      "source": [
        "# Example 2\n",
        "shield = ['vibranium', 'round']\n",
        "shield_copy = shield\n",
        "\n",
        "print (\"Original shield is \", shield)\n",
        "print(\"Wolverine changes the material of shield\")\n",
        "\n",
        "shield_copy[0] = 'adamantium'\n",
        "print(\"New shield\", shield)"
      ],
      "metadata": {
        "id": "ZmOw3wXVHzAx",
        "outputId": "dd746ef1-dbab-4524-e118-0d255adde314",
        "colab": {
          "base_uri": "https://localhost:8080/"
        }
      },
      "execution_count": null,
      "outputs": [
        {
          "output_type": "stream",
          "name": "stdout",
          "text": [
            "Original shield is  ['vibranium', 'round']\n",
            "Wolverine changes the material of shield\n",
            "New shield ['adamantium', 'round']\n"
          ]
        }
      ]
    },
    {
      "cell_type": "markdown",
      "source": [
        "### Removing a Variable"
      ],
      "metadata": {
        "id": "D7BljjJNLFrh"
      }
    },
    {
      "cell_type": "code",
      "source": [
        "a = 10\n",
        "del a\n",
        "print(a)"
      ],
      "metadata": {
        "id": "ukP5XBdbLBWR",
        "outputId": "47941726-5570-4bda-8ef9-e879d2d04e3b",
        "colab": {
          "base_uri": "https://localhost:8080/",
          "height": 176
        }
      },
      "execution_count": null,
      "outputs": [
        {
          "output_type": "error",
          "ename": "NameError",
          "evalue": "name 'a' is not defined",
          "traceback": [
            "\u001b[0;31m---------------------------------------------------------------------------\u001b[0m",
            "\u001b[0;31mNameError\u001b[0m                                 Traceback (most recent call last)",
            "\u001b[0;32m/tmp/ipython-input-1529759680.py\u001b[0m in \u001b[0;36m<cell line: 0>\u001b[0;34m()\u001b[0m\n\u001b[1;32m      1\u001b[0m \u001b[0ma\u001b[0m \u001b[0;34m=\u001b[0m \u001b[0;36m10\u001b[0m\u001b[0;34m\u001b[0m\u001b[0;34m\u001b[0m\u001b[0m\n\u001b[1;32m      2\u001b[0m \u001b[0;32mdel\u001b[0m \u001b[0ma\u001b[0m\u001b[0;34m\u001b[0m\u001b[0;34m\u001b[0m\u001b[0m\n\u001b[0;32m----> 3\u001b[0;31m \u001b[0mprint\u001b[0m\u001b[0;34m(\u001b[0m\u001b[0ma\u001b[0m\u001b[0;34m)\u001b[0m\u001b[0;34m\u001b[0m\u001b[0;34m\u001b[0m\u001b[0m\n\u001b[0m",
            "\u001b[0;31mNameError\u001b[0m: name 'a' is not defined"
          ]
        }
      ]
    },
    {
      "cell_type": "code",
      "source": [
        "x = ['apple', 'banana', 'orange', 'dragonfruit', 'kiwi', 'pineapple']\n",
        "del x[1]\n",
        "print(x)\n",
        "del x[2:4]\n",
        "print(x)"
      ],
      "metadata": {
        "id": "P-T7ahfHLXdq",
        "outputId": "33c4f1fe-7f09-44d8-9635-857062dd489e",
        "colab": {
          "base_uri": "https://localhost:8080/"
        }
      },
      "execution_count": null,
      "outputs": [
        {
          "output_type": "stream",
          "name": "stdout",
          "text": [
            "['apple', 'orange', 'dragonfruit', 'kiwi', 'pineapple']\n",
            "['apple', 'orange', 'pineapple']\n"
          ]
        }
      ]
    },
    {
      "cell_type": "markdown",
      "source": [
        "**Q.** You need to calculate the average of the power levels of your favourite character. The output should be upto to decimal places."
      ],
      "metadata": {
        "id": "A8rdWjAbHkMg"
      }
    },
    {
      "cell_type": "code",
      "source": [
        "power_levels = [65,85,100,54,152,065]\n",
        "if power_levels:\n",
        "    avg = round(sum(power_levels) / len(power_levels), 2)\n",
        "    print(f\"Average power level is {avg}\")\n",
        "else:\n",
        "    print(\"List is empty\""
      ],
      "metadata": {
        "id": "FZW8YpJTHckD"
      },
      "execution_count": null,
      "outputs": []
    },
    {
      "cell_type": "markdown",
      "source": [
        "* **Interview Tip:** You must validate your input data. An empty or incorrect datatype can collapse even the strongest of the algorithms. Never underestimate the input validation.\n",
        "\n",
        "* An easier way to solve the above problem is to **import** the library **statistics** and use the function **mean**"
      ],
      "metadata": {
        "id": "b4caXjZZH5sB"
      }
    },
    {
      "cell_type": "markdown",
      "source": [
        "## String Datatype\n",
        "\n",
        "* Ordered collection of characters arranged in a sequence\n",
        "* String are array of bytes represented in unicode characters\n",
        "* No separate character is the length of one.\n",
        "* String is represented by `\" \"`/`' '`/`''' '''`/`\"\"\"\" \"\"\"\"`\n",
        "* Strings are immutable, the keyword used to print a string is `str()` keyword\n",
        "* Strings are iterable, the strings can be put in `for` loop"
      ],
      "metadata": {
        "id": "lL6bSepMI7Ci"
      }
    },
    {
      "cell_type": "code",
      "source": [
        "s1 = \"This is a string\"\n",
        "print(s1)\n",
        "\n",
        "s2 = \"This \" + 'is ' + '''also ''' + f\"\"\"string\"\"\"\n",
        "print(s2)\n",
        "\n",
        "s3 = \"This is an example of \\nsingle line printed across multiple lines.\"\n",
        "print(s3)\n",
        "\n",
        "s4 = \"This is an example of \\\n",
        "  single line written across multiple lines.\"\n",
        "print(s4)"
      ],
      "metadata": {
        "colab": {
          "base_uri": "https://localhost:8080/"
        },
        "id": "V2fTuLm1ImJq",
        "outputId": "af9f318c-a7bb-4c51-e4e4-7eb511b00b98"
      },
      "execution_count": null,
      "outputs": [
        {
          "output_type": "stream",
          "name": "stdout",
          "text": [
            "This is a string\n",
            "This is also string\n",
            "This is an example of \n",
            "single line written across multiple lines.\n",
            "This is an example of   single line written across multiple lines.\n"
          ]
        }
      ]
    },
    {
      "cell_type": "code",
      "source": [
        "hulk = \"Hulk: SMASH!!\"\n",
        "print(hulk * 4)"
      ],
      "metadata": {
        "colab": {
          "base_uri": "https://localhost:8080/"
        },
        "id": "zEpoZQIlKnpI",
        "outputId": "5161fdc9-d976-4f59-d5ae-0a8fb8d5190f"
      },
      "execution_count": null,
      "outputs": [
        {
          "output_type": "stream",
          "name": "stdout",
          "text": [
            "Hulk: SMASH!!Hulk: SMASH!!Hulk: SMASH!!Hulk: SMASH!!\n"
          ]
        }
      ]
    },
    {
      "cell_type": "markdown",
      "source": [
        "**CONCEPT** A string can be repeated by multiplying it by an integer"
      ],
      "metadata": {
        "id": "Rli2R6XdLBHW"
      }
    },
    {
      "cell_type": "code",
      "source": [
        "iron_man = \"Mission ID : #458\"\n",
        "print(iron_man)\n",
        "\n",
        "cap_am = \"Avengers Assemble: # This is not a comment. \" #including [#] symbol into a string\n",
        "print(cap_am)\n",
        "\n",
        "#length of the string\n",
        "avengers =  \"Iron Man\"\n",
        "length = len(avengers)\n",
        "print(f\"\"\"Length of the string '{avengers}' is {length}\"\"\")\n",
        "\n",
        "print(f\"First character is {avengers[0]}\")\n",
        "print(f\"Last character is {avengers[-1]}\")\n",
        "print(f\"First character is {avengers[-8]}\")\n",
        "print(f\"First character is {avengers[-0]}\")"
      ],
      "metadata": {
        "colab": {
          "base_uri": "https://localhost:8080/"
        },
        "id": "yfCW5OiXM8a3",
        "outputId": "57fdfedb-d63e-47ce-e4d1-cf9e99d92ad9"
      },
      "execution_count": null,
      "outputs": [
        {
          "output_type": "stream",
          "name": "stdout",
          "text": [
            "Mission ID : #458\n",
            "Avengers Assemble: # This is not a comment. \n",
            "Length of the string 'Iron Man' is 8\n",
            "First character is I\n",
            "Last character is n\n",
            "First character is I\n",
            "First character is I\n"
          ]
        }
      ]
    },
    {
      "cell_type": "markdown",
      "source": [
        "### Slicing\n",
        "- Slicing is useful in Text Preprocessing in NLP(Natural Language Processor)\n",
        "- It is also used in feature extraction and sequence models. Example: RNN, Transformer"
      ],
      "metadata": {
        "id": "uUie-SqePoMR"
      }
    },
    {
      "cell_type": "code",
      "source": [
        "avengers = \"Iron Man\"\n",
        "\n",
        "slicing = avengers[:5]\n",
        "neg_slicing = avengers[-8:-4]\n",
        "\n",
        "print(slicing)\n",
        "print(neg_slicing)\n",
        "print(neg_slicing[::2])\n",
        "print(neg_slicing[::-1])\n",
        "\n",
        "for c in avengers:\n",
        "  print(c, end=\"*\")\n",
        "\n",
        "a = avengers[-6:]\n",
        "print(a)"
      ],
      "metadata": {
        "colab": {
          "base_uri": "https://localhost:8080/"
        },
        "id": "gM3JbtoCPpzc",
        "outputId": "f9015b44-2377-4615-9123-d5a1bd3a203e"
      },
      "execution_count": null,
      "outputs": [
        {
          "output_type": "stream",
          "name": "stdout",
          "text": [
            "Iron \n",
            "Iron\n",
            "Io\n",
            "norI\n",
            "I*r*o*n* *M*a*n*on Man\n"
          ]
        }
      ]
    },
    {
      "cell_type": "code",
      "source": [
        "def prime(num: int):\n",
        "  return False\n",
        "\n",
        "prime(\"aryan\")"
      ],
      "metadata": {
        "colab": {
          "base_uri": "https://localhost:8080/"
        },
        "id": "qukQUjwCRf6u",
        "outputId": "3a812e64-d772-4c5d-b6b2-b906244ad0ee"
      },
      "execution_count": null,
      "outputs": [
        {
          "output_type": "execute_result",
          "data": {
            "text/plain": [
              "False"
            ]
          },
          "metadata": {},
          "execution_count": 31
        }
      ]
    },
    {
      "cell_type": "markdown",
      "source": [
        "**Q.** Write a program to select the parts of the sequences. These sequences are the token of text.\n",
        "Example:  \n",
        "```token = [\"iron man\", \"saves\", \"the\", \"world\", \"again\"]```"
      ],
      "metadata": {
        "id": "cDtxx2FRSPLE"
      }
    },
    {
      "cell_type": "code",
      "source": [
        "token = [\"iron man\", \"saves\", \"the\", \"world\", \"again\"]\n",
        "print(token[len(token) // 2])"
      ],
      "metadata": {
        "colab": {
          "base_uri": "https://localhost:8080/"
        },
        "id": "p_bd4UHOTqYR",
        "outputId": "3a3b51aa-7572-4fd4-d86b-da914a85f518"
      },
      "execution_count": null,
      "outputs": [
        {
          "output_type": "stream",
          "name": "stdout",
          "text": [
            "the\n"
          ]
        }
      ]
    },
    {
      "cell_type": "markdown",
      "source": [
        "## Boolean Datatype\n",
        "\n",
        "### Type Checking"
      ],
      "metadata": {
        "id": "U577hVxuAWtv"
      }
    },
    {
      "cell_type": "code",
      "source": [
        "print(10 > 9 > 8)\n",
        "print(10 > 9 and 9 > 8)\n",
        "print(10 > 9 or 10 < 9)\n",
        "print(10 > 9 and 10 < 9)\n",
        "\n",
        "print(not 10 > 9)"
      ],
      "metadata": {
        "id": "LuHWLjhrAhUB",
        "outputId": "ccd36eda-99b2-4058-8e5f-0fde4d60f6f4",
        "colab": {
          "base_uri": "https://localhost:8080/"
        }
      },
      "execution_count": 4,
      "outputs": [
        {
          "output_type": "stream",
          "name": "stdout",
          "text": [
            "True\n",
            "True\n",
            "True\n",
            "False\n",
            "False\n"
          ]
        }
      ]
    },
    {
      "cell_type": "markdown",
      "source": [
        "### XOR"
      ],
      "metadata": {
        "id": "_ruc_0cKDL7C"
      }
    },
    {
      "cell_type": "code",
      "source": [
        "print(10 ^ 20)"
      ],
      "metadata": {
        "id": "Cw5zZsPpDNZb",
        "outputId": "aed8972e-4840-42e7-f320-b26a4e4c1b0b",
        "colab": {
          "base_uri": "https://localhost:8080/"
        }
      },
      "execution_count": 5,
      "outputs": [
        {
          "output_type": "stream",
          "name": "stdout",
          "text": [
            "30\n"
          ]
        }
      ]
    }
  ]
}