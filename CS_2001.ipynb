{
  "nbformat": 4,
  "nbformat_minor": 0,
  "metadata": {
    "colab": {
      "provenance": [],
      "collapsed_sections": [
        "IcqMMs8o-BV8"
      ],
      "include_colab_link": true
    },
    "kernelspec": {
      "name": "python3",
      "display_name": "Python 3"
    },
    "language_info": {
      "name": "python"
    }
  },
  "cells": [
    {
      "cell_type": "markdown",
      "metadata": {
        "id": "view-in-github",
        "colab_type": "text"
      },
      "source": [
        "<a href=\"https://colab.research.google.com/github/PearlGrell/CS-2001/blob/main/CS_2001.ipynb\" target=\"_parent\"><img src=\"https://colab.research.google.com/assets/colab-badge.svg\" alt=\"Open In Colab\"/></a>"
      ]
    },
    {
      "cell_type": "markdown",
      "source": [
        "# Unit 1: Data Types and Operators\n"
      ],
      "metadata": {
        "id": "fUeHgfGk96i2"
      }
    },
    {
      "cell_type": "markdown",
      "source": [
        "## 1. Swapping Two Variables\n",
        "\n",
        "**Question:** Thor and Hulk are competing in a strength test. The scores are scored in variables. Swap their scores using only Python variables."
      ],
      "metadata": {
        "id": "IcqMMs8o-BV8"
      }
    },
    {
      "cell_type": "code",
      "source": [
        "thor : int = int(input(\"Enter Thor's score: \"))\n",
        "hulk : int = int(input(\"Enter Hulk's score: \"))\n",
        "\n",
        "print(\"Before swapping:\")\n",
        "print(\"Thor's score:\", thor)\n",
        "print(\"Hulk's score:\", hulk)\n",
        "\n",
        "thor, hulk = hulk, thor\n",
        "\n",
        "print(\"After swapping:\")\n",
        "print(\"Thor's score:\", thor)\n",
        "print(\"Hulk's score:\", hulk)"
      ],
      "metadata": {
        "colab": {
          "base_uri": "https://localhost:8080/"
        },
        "id": "Uqm5TeCg_Ki4",
        "outputId": "26b3c046-f8c8-4050-d303-dc9c3a825a92"
      },
      "execution_count": null,
      "outputs": [
        {
          "output_type": "stream",
          "name": "stdout",
          "text": [
            "Enter Thor's score: 100\n",
            "Enter Hulk's score: 54\n",
            "Before swapping:\n",
            "Thor's score: 100\n",
            "Hulk's score: 54\n",
            "After swapping:\n",
            "Thor's score: 54\n",
            "Hulk's score: 100\n"
          ]
        }
      ]
    },
    {
      "cell_type": "markdown",
      "source": [
        "## 2. Hulk's Strength\n",
        "**Question:** Hulk strength level is recorded as a string input 1000. Convert it into an integer and increase it by 200."
      ],
      "metadata": {
        "id": "GS2OfpNR_8WV"
      }
    },
    {
      "cell_type": "code",
      "source": [
        "strength = \"1000\"\n",
        "strength = int(strength)\n",
        "strength += 200\n",
        "print(f\"Hulk's strength is {strength}\")"
      ],
      "metadata": {
        "colab": {
          "base_uri": "https://localhost:8080/"
        },
        "id": "kpSDTQdKDMjm",
        "outputId": "1e36273c-4ade-49ec-f60e-9bc6306a1f48"
      },
      "execution_count": null,
      "outputs": [
        {
          "output_type": "stream",
          "name": "stdout",
          "text": [
            "Hulk's strength is 1200\n"
          ]
        }
      ]
    },
    {
      "cell_type": "markdown",
      "source": [
        "## 3. Gravitational **Force**\n",
        "\n",
        "**Question:** Thor's hammer weight is 5000 (int), but you need to calculate the gravitation force, which requires it as float.\n"
      ],
      "metadata": {
        "id": "IhnpdUHlA4vO"
      }
    },
    {
      "cell_type": "code",
      "source": [
        "weight = 5000\n",
        "force = 9.8 * 5000\n",
        "print(f\"Gravitational force is {force:.2f} N\")"
      ],
      "metadata": {
        "colab": {
          "base_uri": "https://localhost:8080/"
        },
        "id": "iM4XIrPoC3Ga",
        "outputId": "b4b27480-4aa3-4d9f-be09-8bc7e07d07d1"
      },
      "execution_count": null,
      "outputs": [
        {
          "output_type": "stream",
          "name": "stdout",
          "text": [
            "Gravitational force is 49000.00 N\n"
          ]
        }
      ]
    },
    {
      "cell_type": "markdown",
      "source": [
        "## 4. Seconds to Hours\n",
        "\n",
        "**Question:** Loki gets input in seconds: \"3600\". Convert it to an integer and then to hours. Show final result as a float."
      ],
      "metadata": {
        "id": "cGekJ_JlBIax"
      }
    },
    {
      "cell_type": "code",
      "source": [
        "second = \"3600\"\n",
        "second = int(second)\n",
        "hour = second / 3600\n",
        "print(f\"Time in hours: {hour:.2f}\")"
      ],
      "metadata": {
        "colab": {
          "base_uri": "https://localhost:8080/"
        },
        "id": "CXIiRZ7YCtUh",
        "outputId": "a5dffb6e-42aa-404c-dd1b-983f84308c6e"
      },
      "execution_count": null,
      "outputs": [
        {
          "output_type": "stream",
          "name": "stdout",
          "text": [
            "Time in hours: 1.00\n"
          ]
        }
      ]
    },
    {
      "cell_type": "markdown",
      "source": [
        "## 5. Find Accuracy\n",
        "\n",
        "**Question:** Iron Man recorded 7 hits out of 10 shots, both integers. Convert them into float and calculate the accuracy percentage."
      ],
      "metadata": {
        "id": "aDHk4IFnBV-H"
      }
    },
    {
      "cell_type": "code",
      "source": [
        "hit = 7\n",
        "total = 10\n",
        "\n",
        "hit = float(hit)\n",
        "total = float(total)\n",
        "\n",
        "accuracy = (hit / total) * 100\n",
        "\n",
        "print(f\"Accuracy is {accuracy:.2f}%\")"
      ],
      "metadata": {
        "colab": {
          "base_uri": "https://localhost:8080/"
        },
        "id": "D2kn80D_Cgk2",
        "outputId": "c65567aa-11c2-44d1-c3f5-dcbe1aad6241"
      },
      "execution_count": null,
      "outputs": [
        {
          "output_type": "stream",
          "name": "stdout",
          "text": [
            "Accuracy is 70.00%\n"
          ]
        }
      ]
    },
    {
      "cell_type": "markdown",
      "source": [
        "## Object Referencing\n",
        "\n",
        "1. Python variables hold references to an objects, not the actual object themselves.\n",
        "2. Reassigning a variable does not affect other variables referencing the same object unless explicitly updated.\n"
      ],
      "metadata": {
        "id": "mJId0osWEXPj"
      }
    },
    {
      "cell_type": "code",
      "source": [
        "# Example 1\n",
        "a = [1,2,3]\n",
        "b = a\n",
        "print(\"a original: \", a)\n",
        "\n",
        "b.append(4)\n",
        "\n",
        "print(\"a new: \", b)\n",
        "print(\"b: \", a)"
      ],
      "metadata": {
        "colab": {
          "base_uri": "https://localhost:8080/"
        },
        "id": "saeiDZSzG4hh",
        "outputId": "9f0e15d1-faec-456f-fd19-16e5447e36c1"
      },
      "execution_count": null,
      "outputs": [
        {
          "output_type": "stream",
          "name": "stdout",
          "text": [
            "a original:  [1, 2, 3]\n",
            "a new:  [1, 2, 3, 4]\n",
            "b:  [1, 2, 3, 4]\n"
          ]
        }
      ]
    },
    {
      "cell_type": "code",
      "source": [
        "# Example 2\n",
        "shield = ['vibranium', 'round']\n",
        "shield_copy = shield\n",
        "\n",
        "print (\"Original shield is \", shield)\n",
        "print(\"Wolverine changes the material of shield\")\n",
        "\n",
        "shield_copy[0] = 'adamantium'\n",
        "print(\"New shield\", shield)"
      ],
      "metadata": {
        "id": "ZmOw3wXVHzAx",
        "outputId": "db6f0516-d9cc-4e3d-e181-116ff4b5f814",
        "colab": {
          "base_uri": "https://localhost:8080/"
        }
      },
      "execution_count": null,
      "outputs": [
        {
          "output_type": "stream",
          "name": "stdout",
          "text": [
            "Original shield is  ['vibranium', 'round']\n",
            "Wolverine changes the material of shield\n",
            "New shield ['adamantium', 'round']\n"
          ]
        }
      ]
    },
    {
      "cell_type": "markdown",
      "source": [
        "### Removing a Variable"
      ],
      "metadata": {
        "id": "D7BljjJNLFrh"
      }
    },
    {
      "cell_type": "code",
      "source": [
        "a = 10\n",
        "del a\n",
        "print(a)"
      ],
      "metadata": {
        "id": "ukP5XBdbLBWR",
        "outputId": "e7136ec5-556a-4192-86a7-ba43951b9966",
        "colab": {
          "base_uri": "https://localhost:8080/",
          "height": 176
        }
      },
      "execution_count": null,
      "outputs": [
        {
          "output_type": "error",
          "ename": "NameError",
          "evalue": "name 'a' is not defined",
          "traceback": [
            "\u001b[0;31m---------------------------------------------------------------------------\u001b[0m",
            "\u001b[0;31mNameError\u001b[0m                                 Traceback (most recent call last)",
            "\u001b[0;32m/tmp/ipython-input-1529759680.py\u001b[0m in \u001b[0;36m<cell line: 0>\u001b[0;34m()\u001b[0m\n\u001b[1;32m      1\u001b[0m \u001b[0ma\u001b[0m \u001b[0;34m=\u001b[0m \u001b[0;36m10\u001b[0m\u001b[0;34m\u001b[0m\u001b[0;34m\u001b[0m\u001b[0m\n\u001b[1;32m      2\u001b[0m \u001b[0;32mdel\u001b[0m \u001b[0ma\u001b[0m\u001b[0;34m\u001b[0m\u001b[0;34m\u001b[0m\u001b[0m\n\u001b[0;32m----> 3\u001b[0;31m \u001b[0mprint\u001b[0m\u001b[0;34m(\u001b[0m\u001b[0ma\u001b[0m\u001b[0;34m)\u001b[0m\u001b[0;34m\u001b[0m\u001b[0;34m\u001b[0m\u001b[0m\n\u001b[0m",
            "\u001b[0;31mNameError\u001b[0m: name 'a' is not defined"
          ]
        }
      ]
    },
    {
      "cell_type": "code",
      "source": [
        "x = ['apple', 'banana', 'orange', 'dragonfruit', 'kiwi', 'pineapple']\n",
        "del x[1]\n",
        "print(x)\n",
        "del x[2:4]\n",
        "print(x)"
      ],
      "metadata": {
        "id": "P-T7ahfHLXdq",
        "outputId": "e11f3ed6-705a-4bb1-8acd-09cec72ab5da",
        "colab": {
          "base_uri": "https://localhost:8080/"
        }
      },
      "execution_count": null,
      "outputs": [
        {
          "output_type": "stream",
          "name": "stdout",
          "text": [
            "['apple', 'orange', 'dragonfruit', 'kiwi', 'pineapple']\n",
            "['apple', 'orange', 'pineapple']\n"
          ]
        }
      ]
    },
    {
      "cell_type": "markdown",
      "source": [
        "**Q.** You need to calculate the average of the power levels of your favourite character. The output should be upto to decimal places."
      ],
      "metadata": {
        "id": "A8rdWjAbHkMg"
      }
    },
    {
      "cell_type": "code",
      "source": [
        "power_levels = [65,85,100,54,152,65]\n",
        "if power_levels:\n",
        "    avg = round(sum(power_levels) / len(power_levels), 2)\n",
        "    print(f\"Average power level is {avg}\")\n",
        "else:\n",
        "    print(\"List is empty\")"
      ],
      "metadata": {
        "id": "FZW8YpJTHckD",
        "colab": {
          "base_uri": "https://localhost:8080/"
        },
        "outputId": "560953ca-fe4b-4e22-fac3-93f51821c66b"
      },
      "execution_count": null,
      "outputs": [
        {
          "output_type": "stream",
          "name": "stdout",
          "text": [
            "Average power level is 86.83\n"
          ]
        }
      ]
    },
    {
      "cell_type": "markdown",
      "source": [
        "* **Interview Tip:** You must validate your input data. An empty or incorrect datatype can collapse even the strongest of the algorithms. Never underestimate the input validation.\n",
        "\n",
        "* An easier way to solve the above problem is to **import** the library **statistics** and use the function **mean**"
      ],
      "metadata": {
        "id": "b4caXjZZH5sB"
      }
    },
    {
      "cell_type": "markdown",
      "source": [
        "## String Datatype\n",
        "\n",
        "* Ordered collection of characters arranged in a sequence\n",
        "* String are array of bytes represented in unicode characters\n",
        "* No separate character is the length of one.\n",
        "* String is represented by `\" \"`/`' '`/`''' '''`/`\"\"\"\" \"\"\"\"`\n",
        "* Strings are immutable, the keyword used to print a string is `str()` keyword\n",
        "* Strings are iterable, the strings can be put in `for` loop"
      ],
      "metadata": {
        "id": "lL6bSepMI7Ci"
      }
    },
    {
      "cell_type": "code",
      "source": [
        "s1 = \"This is a string\"\n",
        "print(s1)\n",
        "\n",
        "s2 = \"This \" + 'is ' + '''also ''' + f\"\"\"string\"\"\"\n",
        "print(s2)\n",
        "\n",
        "s3 = \"This is an example of \\nsingle line printed across multiple lines.\"\n",
        "print(s3)\n",
        "\n",
        "s4 = \"This is an example of \\\n",
        "  single line written across multiple lines.\"\n",
        "print(s4)"
      ],
      "metadata": {
        "colab": {
          "base_uri": "https://localhost:8080/"
        },
        "id": "V2fTuLm1ImJq",
        "outputId": "b56122b4-b863-40f6-9cf2-4bf612a3a8dd"
      },
      "execution_count": null,
      "outputs": [
        {
          "output_type": "stream",
          "name": "stdout",
          "text": [
            "This is a string\n",
            "This is also string\n",
            "This is an example of \n",
            "single line printed across multiple lines.\n",
            "This is an example of   single line written across multiple lines.\n"
          ]
        }
      ]
    },
    {
      "cell_type": "code",
      "source": [
        "hulk = \"Hulk: SMASH!!\"\n",
        "print(hulk * 4)"
      ],
      "metadata": {
        "colab": {
          "base_uri": "https://localhost:8080/"
        },
        "id": "zEpoZQIlKnpI",
        "outputId": "f9e59512-0061-4777-bb85-a6ed430dad5d"
      },
      "execution_count": null,
      "outputs": [
        {
          "output_type": "stream",
          "name": "stdout",
          "text": [
            "Hulk: SMASH!!Hulk: SMASH!!Hulk: SMASH!!Hulk: SMASH!!\n"
          ]
        }
      ]
    },
    {
      "cell_type": "markdown",
      "source": [
        "**CONCEPT** A string can be repeated by multiplying it by an integer"
      ],
      "metadata": {
        "id": "Rli2R6XdLBHW"
      }
    },
    {
      "cell_type": "code",
      "source": [
        "iron_man = \"Mission ID : #458\"\n",
        "print(iron_man)\n",
        "\n",
        "cap_am = \"Avengers Assemble: # This is not a comment. \" #including [#] symbol into a string\n",
        "print(cap_am)\n",
        "\n",
        "#length of the string\n",
        "avengers =  \"Iron Man\"\n",
        "length = len(avengers)\n",
        "print(f\"\"\"Length of the string '{avengers}' is {length}\"\"\")\n",
        "\n",
        "print(f\"First character is {avengers[0]}\")\n",
        "print(f\"Last character is {avengers[-1]}\")\n",
        "print(f\"First character is {avengers[-8]}\")\n",
        "print(f\"First character is {avengers[-0]}\")"
      ],
      "metadata": {
        "colab": {
          "base_uri": "https://localhost:8080/"
        },
        "id": "yfCW5OiXM8a3",
        "outputId": "f98a9f13-5b3d-46ea-a98a-b079c6af4c1e"
      },
      "execution_count": null,
      "outputs": [
        {
          "output_type": "stream",
          "name": "stdout",
          "text": [
            "Mission ID : #458\n",
            "Avengers Assemble: # This is not a comment. \n",
            "Length of the string 'Iron Man' is 8\n",
            "First character is I\n",
            "Last character is n\n",
            "First character is I\n",
            "First character is I\n"
          ]
        }
      ]
    },
    {
      "cell_type": "markdown",
      "source": [
        "### Slicing\n",
        "- Slicing is useful in Text Preprocessing in NLP(Natural Language Processor)\n",
        "- It is also used in feature extraction and sequence models. Example: RNN, Transformer"
      ],
      "metadata": {
        "id": "uUie-SqePoMR"
      }
    },
    {
      "cell_type": "code",
      "source": [
        "avengers = \"Iron Man\"\n",
        "\n",
        "slicing = avengers[:5]\n",
        "neg_slicing = avengers[-8:-4]\n",
        "\n",
        "print(slicing)\n",
        "print(neg_slicing)\n",
        "print(neg_slicing[::2])\n",
        "print(neg_slicing[::-1])\n",
        "\n",
        "for c in avengers:\n",
        "  print(c, end=\"*\")\n",
        "\n",
        "a = avengers[-6:]\n",
        "print(a)"
      ],
      "metadata": {
        "colab": {
          "base_uri": "https://localhost:8080/"
        },
        "id": "gM3JbtoCPpzc",
        "outputId": "bb2d9ef7-e559-45e8-c4ba-97378a5f6a17"
      },
      "execution_count": null,
      "outputs": [
        {
          "output_type": "stream",
          "name": "stdout",
          "text": [
            "Iron \n",
            "Iron\n",
            "Io\n",
            "norI\n",
            "I*r*o*n* *M*a*n*on Man\n"
          ]
        }
      ]
    },
    {
      "cell_type": "code",
      "source": [
        "def prime(num: int):\n",
        "  return False\n",
        "\n",
        "prime(\"aryan\")"
      ],
      "metadata": {
        "colab": {
          "base_uri": "https://localhost:8080/"
        },
        "id": "qukQUjwCRf6u",
        "outputId": "e9cbdae8-aa57-4ba7-a63c-5655eeef86c6"
      },
      "execution_count": null,
      "outputs": [
        {
          "output_type": "execute_result",
          "data": {
            "text/plain": [
              "False"
            ]
          },
          "metadata": {},
          "execution_count": 44
        }
      ]
    },
    {
      "cell_type": "markdown",
      "source": [
        "**Q.** Write a program to select the parts of the sequences. These sequences are the token of text.\n",
        "Example:  \n",
        "```token = [\"iron man\", \"saves\", \"the\", \"world\", \"again\"]```"
      ],
      "metadata": {
        "id": "cDtxx2FRSPLE"
      }
    },
    {
      "cell_type": "code",
      "source": [
        "token = [\"iron man\", \"saves\", \"the\", \"world\", \"again\"]\n",
        "print(token[len(token) // 2])"
      ],
      "metadata": {
        "colab": {
          "base_uri": "https://localhost:8080/"
        },
        "id": "p_bd4UHOTqYR",
        "outputId": "2a1900ad-2e69-4578-ddfe-9911db8af81b"
      },
      "execution_count": null,
      "outputs": [
        {
          "output_type": "stream",
          "name": "stdout",
          "text": [
            "the\n"
          ]
        }
      ]
    },
    {
      "cell_type": "markdown",
      "source": [
        "## Boolean Datatype\n",
        "\n",
        "### Type Checking"
      ],
      "metadata": {
        "id": "U577hVxuAWtv"
      }
    },
    {
      "cell_type": "code",
      "source": [
        "print(10 > 9 > 8)\n",
        "print(10 > 9 and 9 > 8)\n",
        "print(10 > 9 or 10 < 9)\n",
        "print(10 > 9 and 10 < 9)\n",
        "print(not 10 > 9)\n",
        "\n",
        "print('-' * 20)\n",
        "\n",
        "print(True + True)\n",
        "print(bool([]))\n",
        "print(bool(\" \"))"
      ],
      "metadata": {
        "colab": {
          "base_uri": "https://localhost:8080/"
        },
        "id": "LuHWLjhrAhUB",
        "outputId": "8347dce7-63b5-43eb-e761-145163f6810f"
      },
      "execution_count": null,
      "outputs": [
        {
          "output_type": "stream",
          "name": "stdout",
          "text": [
            "True\n",
            "True\n",
            "True\n",
            "False\n",
            "False\n",
            "--------------------\n",
            "2\n",
            "False\n",
            "True\n"
          ]
        }
      ]
    },
    {
      "cell_type": "markdown",
      "source": [
        "### XOR\n",
        "\n",
        "* Used in bitwise encryption"
      ],
      "metadata": {
        "id": "_ruc_0cKDL7C"
      }
    },
    {
      "cell_type": "code",
      "source": [
        "print(10 ^ 20)"
      ],
      "metadata": {
        "colab": {
          "base_uri": "https://localhost:8080/"
        },
        "id": "Cw5zZsPpDNZb",
        "outputId": "4efc1918-fd61-4c8e-9549-4a5d8bb184ec"
      },
      "execution_count": null,
      "outputs": [
        {
          "output_type": "stream",
          "name": "stdout",
          "text": [
            "30\n"
          ]
        }
      ]
    },
    {
      "cell_type": "markdown",
      "source": [
        "**Q.** Swap two numbers without using a third variable"
      ],
      "metadata": {
        "id": "5qx4PdzUHKtv"
      }
    },
    {
      "cell_type": "code",
      "source": [
        "a, b = 10, 20\n",
        "a = a ^ b\n",
        "b = a ^ b\n",
        "a = a ^ b\n",
        "print(a,b)"
      ],
      "metadata": {
        "id": "aLP5fURUHcrR",
        "outputId": "0b23b607-5444-44d5-ff6d-ab2293b5397f",
        "colab": {
          "base_uri": "https://localhost:8080/"
        }
      },
      "execution_count": null,
      "outputs": [
        {
          "output_type": "stream",
          "name": "stdout",
          "text": [
            "20 10\n"
          ]
        }
      ]
    },
    {
      "cell_type": "markdown",
      "source": [
        "**Q.** Find the XOR of number 10 and 7"
      ],
      "metadata": {
        "id": "gwjSJkJoGtNu"
      }
    },
    {
      "cell_type": "code",
      "source": [
        "print(10 ^ 7)"
      ],
      "metadata": {
        "id": "A_CLtfe9FOWX",
        "outputId": "561f867f-5abf-473b-9d40-bedba6cadb96",
        "colab": {
          "base_uri": "https://localhost:8080/"
        }
      },
      "execution_count": null,
      "outputs": [
        {
          "output_type": "stream",
          "name": "stdout",
          "text": [
            "13\n"
          ]
        }
      ]
    },
    {
      "cell_type": "markdown",
      "source": [
        "**Q.** Check if the XOR of two numbers if odd or even. A = 4, B = 7"
      ],
      "metadata": {
        "id": "o_JRmLXTG19h"
      }
    },
    {
      "cell_type": "code",
      "source": [
        "print(\"even\" if (4 ^ 7) % 2 == 0 else \"odd\")"
      ],
      "metadata": {
        "id": "mRB3Sc8MHD4K",
        "outputId": "e9a4793e-9a6b-4720-b6b2-3618ff49b3e1",
        "colab": {
          "base_uri": "https://localhost:8080/"
        }
      },
      "execution_count": null,
      "outputs": [
        {
          "output_type": "stream",
          "name": "stdout",
          "text": [
            "odd\n"
          ]
        }
      ]
    },
    {
      "cell_type": "markdown",
      "source": [
        "`all()` and `any()`"
      ],
      "metadata": {
        "id": "iXmW8sEjJqXg"
      }
    },
    {
      "cell_type": "code",
      "source": [
        "print(all([1,2,3]))\n",
        "print(all([0,2,3]))\n",
        "\n",
        "print(any([1,2,3]))\n",
        "print(any([0,2,3]))"
      ],
      "metadata": {
        "id": "OlJvRJOoJnMD",
        "outputId": "692f6424-b1c3-475e-b74e-be4e5f9dfb0c",
        "colab": {
          "base_uri": "https://localhost:8080/"
        }
      },
      "execution_count": null,
      "outputs": [
        {
          "output_type": "stream",
          "name": "stdout",
          "text": [
            "True\n",
            "False\n",
            "True\n",
            "True\n"
          ]
        }
      ]
    },
    {
      "cell_type": "code",
      "source": [
        "marks = [65,70,80,95]\n",
        "print(all(m > 90 for m in marks))"
      ],
      "metadata": {
        "id": "zhHuKvtbKzSS",
        "outputId": "257fa1f7-41d9-4bd1-e1b8-290d5bd95dd2",
        "colab": {
          "base_uri": "https://localhost:8080/"
        }
      },
      "execution_count": null,
      "outputs": [
        {
          "output_type": "stream",
          "name": "stdout",
          "text": [
            "False\n"
          ]
        }
      ]
    },
    {
      "cell_type": "markdown",
      "source": [
        "## Operators\n",
        "\n",
        "### Arithmetic Operators\n",
        "\n",
        "* Lowest Bound is calculated using `floor`\n",
        "* Growth of population, area of square, volume of a cube uses `exponent`"
      ],
      "metadata": {
        "id": "D6wjDW0tSM2g"
      }
    },
    {
      "cell_type": "code",
      "source": [
        "print(f\"\"\"{10 + 9}\\n{10 - 9}\\n{10 * 9}\\n{10 / 9}\\n{10 // 9}\\n{10 % 9}\\n{2 ** 2}\"\"\")"
      ],
      "metadata": {
        "id": "S7_2uK4nSQrj",
        "outputId": "bd33d272-1870-445f-b41f-0716cfc57666",
        "colab": {
          "base_uri": "https://localhost:8080/"
        }
      },
      "execution_count": null,
      "outputs": [
        {
          "output_type": "stream",
          "name": "stdout",
          "text": [
            "19\n",
            "1\n",
            "90\n",
            "1.1111111111111112\n",
            "1\n",
            "1\n",
            "4\n"
          ]
        }
      ]
    },
    {
      "cell_type": "markdown",
      "source": [
        "### Precedence and Associativity"
      ],
      "metadata": {
        "id": "Xw6moHXQWcCc"
      }
    },
    {
      "cell_type": "code",
      "source": [
        "print(2**2**3)\n",
        "# Exponentiation is right-associative\n",
        "# 2**3 = 8 → 2**8 = 256\n",
        "# → 256\n",
        "\n",
        "print(-10//3)\n",
        "# // is floor division (rounds *down* towards -∞)\n",
        "# -10 / 3 = -3.333... → floor = -4\n",
        "# → -4\n",
        "\n",
        "\n",
        "a = 5\n",
        "\n",
        "## Assignment operators\n",
        "\n",
        "a *= 2 + 3\n",
        "# First compute right side: 2 + 3 = 5\n",
        "print(a)\n",
        "\n",
        "a -= 6\n",
        "print(a)\n",
        "\n",
        "a += 6\n",
        "print(a)\n",
        "\n",
        "a /= 5\n",
        "# a = a / 5 = 25 / 5 = 5.0   (note: becomes float!)\n",
        "print(a)\n",
        "\n",
        "a //= 2\n",
        "# a = a // 2 = 5.0 // 2 = 2.0   (floor division, still float)\n",
        "print(a)\n",
        "\n",
        "a %= 3\n",
        "print(a)"
      ],
      "metadata": {
        "id": "btyqPJRvWILu",
        "outputId": "c4a207ca-ab67-4282-8828-c04594254e73",
        "colab": {
          "base_uri": "https://localhost:8080/"
        }
      },
      "execution_count": null,
      "outputs": [
        {
          "output_type": "stream",
          "name": "stdout",
          "text": [
            "256\n",
            "-4\n",
            "25\n",
            "19\n",
            "25\n",
            "5.0\n",
            "2.0\n",
            "2.0\n"
          ]
        }
      ]
    },
    {
      "cell_type": "code",
      "source": [
        "# --- Difference between += and + ---\n",
        "\n",
        "a = [1,2]\n",
        "b = a              # b points to the same list as a\n",
        "a += [3]           # in-place addition (extends the list itself)\n",
        "print(b)           # b shows [1, 2, 3] because a and b are the same object\n",
        "\n",
        "a = [1,2]\n",
        "b = a              # again, b points to the same list as a\n",
        "a = a + [3]        # creates a NEW list, assigns to a (not in-place)\n",
        "print(b)           # b is still [1, 2] because the original list didn’t change\n",
        "\n",
        "\n",
        "# --- Bitwise operators and walrus operator ---\n",
        "\n",
        "x = 5\n",
        "print(x & 3)     # 5 (101) & 3 (011) = 001 = 1\n",
        "print(x | 3)     # 5 (101) | 3 (011) = 111 = 7\n",
        "print(x >> 1)    # 5 (101) >> 1 = 10 (binary) = 2\n",
        "print(x << 1)    # 5 (101) << 1 = 1010 (binary) = 10\n",
        "print(x := 3)    # walrus operator: assigns x = 3, prints 3\n",
        "\n",
        "\n",
        "# --- XOR assignment ---\n",
        "\n",
        "x = 5\n",
        "x ^= 5           # XOR: 5 ^ 5 = 0, so x becomes 0\n",
        "print(x)         # prints 0"
      ],
      "metadata": {
        "id": "uOJIzecuXjZG",
        "outputId": "d8b22851-6ce7-4107-88a1-eff3869b5315",
        "colab": {
          "base_uri": "https://localhost:8080/"
        }
      },
      "execution_count": null,
      "outputs": [
        {
          "output_type": "stream",
          "name": "stdout",
          "text": [
            "[1, 2, 3]\n",
            "[1, 2]\n",
            "1\n",
            "7\n",
            "2\n",
            "10\n",
            "3\n",
            "0\n"
          ]
        }
      ]
    },
    {
      "cell_type": "code",
      "source": [
        "# --- Equality checks ---\n",
        "\n",
        "# a is b -> compares the memory reference\n",
        "# a == b -> compares the values\n",
        "\n",
        "x = 5\n",
        "print(x == 5)    # True, because x is 5\n",
        "print(x == 7)    # False, because 5 != 7\n",
        "\n",
        "\n",
        "## Logical operators\n",
        "## and -> returns the second value if the first is truthy, otherwise returns the first\n",
        "## or  -> returns the first value if it's truthy, otherwise returns the second\n",
        "## not -> negates truthiness (True -> False, False -> True)\n",
        "\n",
        "x = 10\n",
        "y = 20\n",
        "\n",
        "print(x and y)       # both nonzero (truthy) → returns y = 20\n",
        "print(x or y)        # x is nonzero (truthy) → returns x = 10\n",
        "print(not x)         # x is nonzero (truthy) → not True → False\n",
        "\n",
        "print([] and \"HI\")   # [] is falsy → 'and' stops here → returns []\n",
        "print([] or \"HI\")    # [] is falsy → 'or' takes second → returns \"HI\"\n"
      ],
      "metadata": {
        "id": "9esl523kdUMw",
        "outputId": "641b01ca-3f6b-46a5-be11-04e19c227d20",
        "colab": {
          "base_uri": "https://localhost:8080/"
        }
      },
      "execution_count": null,
      "outputs": [
        {
          "output_type": "stream",
          "name": "stdout",
          "text": [
            "True\n",
            "False\n",
            "20\n",
            "10\n",
            "False\n",
            "[]\n",
            "HI\n"
          ]
        }
      ]
    },
    {
      "cell_type": "code",
      "source": [
        "a = 'NITIKA'\n",
        "for i in a:\n",
        "  print(i)\n",
        "  print(i.lower())"
      ],
      "metadata": {
        "id": "SIUYZINcR1HR",
        "outputId": "11ae1920-6b88-4bee-8959-a5dc122fcc75",
        "colab": {
          "base_uri": "https://localhost:8080/"
        }
      },
      "execution_count": null,
      "outputs": [
        {
          "output_type": "stream",
          "name": "stdout",
          "text": [
            "N\n",
            "n\n",
            "I\n",
            "i\n",
            "T\n",
            "t\n",
            "I\n",
            "i\n",
            "K\n",
            "k\n",
            "A\n",
            "a\n"
          ]
        }
      ]
    },
    {
      "cell_type": "code",
      "source": [
        "## Identity Operators\n",
        "l = ['a', 'b','c', 'd']\n",
        "l1 = l\n",
        "print(l1 is l)\n",
        "\n",
        "x = 258\n",
        "y = 258\n",
        "print(x is y)\n",
        "\n",
        "print(258 is 258) ## Bounded to -5 to 256 only. Further are false"
      ],
      "metadata": {
        "id": "xdIE0lQITpve",
        "outputId": "8aac6dec-dbc6-4849-e633-bd44a730f2e8",
        "colab": {
          "base_uri": "https://localhost:8080/"
        }
      },
      "execution_count": null,
      "outputs": [
        {
          "output_type": "stream",
          "name": "stdout",
          "text": [
            "True\n",
            "False\n",
            "True\n"
          ]
        },
        {
          "output_type": "stream",
          "name": "stderr",
          "text": [
            "<>:10: SyntaxWarning: \"is\" with 'int' literal. Did you mean \"==\"?\n",
            "<>:10: SyntaxWarning: \"is\" with 'int' literal. Did you mean \"==\"?\n",
            "/tmp/ipython-input-1037260668.py:10: SyntaxWarning: \"is\" with 'int' literal. Did you mean \"==\"?\n",
            "  print(258 is 258)\n"
          ]
        }
      ]
    },
    {
      "cell_type": "code",
      "source": [
        "x = ['apple', 'banana', 'orange']\n",
        "y = ['apple', 'banana', 'orange']\n",
        "\n",
        "z = x\n",
        "print(x is not z)\n",
        "\n",
        "a = \"banana\"\n",
        "print(\"nana\" in a)\n",
        "print(\"apple\" not in a)"
      ],
      "metadata": {
        "id": "ExJlDAoNUWie",
        "outputId": "978bda2f-1c70-413a-83ef-cfea2acea7b3",
        "colab": {
          "base_uri": "https://localhost:8080/"
        }
      },
      "execution_count": null,
      "outputs": [
        {
          "output_type": "stream",
          "name": "stdout",
          "text": [
            "False\n",
            "True\n",
            "True\n"
          ]
        }
      ]
    },
    {
      "cell_type": "code",
      "source": [
        "## CHECK IF ALL THE CHARACTERS IN A STRING ARE VOWEL\n",
        "test = \"aeioOou\"\n",
        "check = all(c in \"aeiou\" for c in test.lower())\n",
        "print(check)"
      ],
      "metadata": {
        "id": "1mP4Z4XWW_lt",
        "outputId": "1142695f-d92b-4828-973c-ef7676c30e51",
        "colab": {
          "base_uri": "https://localhost:8080/"
        }
      },
      "execution_count": null,
      "outputs": [
        {
          "output_type": "stream",
          "name": "stdout",
          "text": [
            "True\n"
          ]
        }
      ]
    },
    {
      "cell_type": "markdown",
      "source": [
        "## List\n",
        "* Ordered\n",
        "* Duplicacy allowed\n",
        "* Mixed data type\n",
        "* Mutable"
      ],
      "metadata": {
        "id": "ateV4-Bjau8d"
      }
    },
    {
      "cell_type": "code",
      "source": [
        "infinity_stones = ['mind', 'time', 'power', 'space', 'soul', 'reality', 'space', 'soul']\n",
        "infinity_stones.sort()\n",
        "print(infinity_stones)\n",
        "infinity_stones.append(\"infinite\")\n",
        "print(infinity_stones)"
      ],
      "metadata": {
        "id": "rlNBoPstb47j",
        "outputId": "a76d2d5a-6c06-44ee-b89b-717ae8eac889",
        "colab": {
          "base_uri": "https://localhost:8080/"
        }
      },
      "execution_count": 1,
      "outputs": [
        {
          "output_type": "stream",
          "name": "stdout",
          "text": [
            "['mind', 'power', 'reality', 'soul', 'soul', 'space', 'space', 'time']\n",
            "['mind', 'power', 'reality', 'soul', 'soul', 'space', 'space', 'time', 'infinite']\n"
          ]
        }
      ]
    },
    {
      "cell_type": "code",
      "source": [
        "n = 25\n",
        "primes = [x for x in range(2, n+1) if all(x % i for i in range(2, int(x**0.5)+1))]\n",
        "print(primes)"
      ],
      "metadata": {
        "id": "X-bNu3HsfsGx",
        "outputId": "cb03e846-8288-49e8-b370-c83b6e3e7a97",
        "colab": {
          "base_uri": "https://localhost:8080/"
        }
      },
      "execution_count": 3,
      "outputs": [
        {
          "output_type": "stream",
          "name": "stdout",
          "text": [
            "[2, 3, 5, 7, 11, 13, 17, 19, 23]\n"
          ]
        }
      ]
    },
    {
      "cell_type": "markdown",
      "source": [
        "## User Input"
      ],
      "metadata": {
        "id": "41eUyNBOjepJ"
      }
    },
    {
      "cell_type": "code",
      "source": [
        "# Make a friends list\n",
        "\n",
        "name1 = input(\"Enter name of friend 1: \")\n",
        "name2 = input(\"Enter name of friend 2: \")\n",
        "name3 = input(\"Enter name of friend 3: \")\n",
        "name4 = input(\"Enter name of friend 4: \")\n",
        "\n",
        "friends = [name1, name2, name3, name4]\n",
        "print(friends)"
      ],
      "metadata": {
        "id": "6_OVZBDelsGH",
        "outputId": "b8c1c602-2c12-43af-eb11-b64c6b347630",
        "colab": {
          "base_uri": "https://localhost:8080/"
        }
      },
      "execution_count": 8,
      "outputs": [
        {
          "output_type": "stream",
          "name": "stdout",
          "text": [
            "Enter name of friend 1: 12\\23\n",
            "Enter name of friend 2: 232ed\n",
            "Enter name of friend 3: qqw2\n",
            "Enter name of friend 4: r42q\n",
            "['12\\\\23', '232ed', 'qqw2', 'r42q']\n"
          ]
        }
      ]
    },
    {
      "cell_type": "code",
      "source": [
        "# Make a friends list\n",
        "## -> using for loop\n",
        "__friends = []\n",
        "n = int(input(\"Enter number of friends: \"))\n",
        "for i in range (n):\n",
        "  _input = input(\"Enter name of friend: \")\n",
        "  __friends.append(_input)\n",
        "print(__friends)"
      ],
      "metadata": {
        "id": "JBnkXgIHgBRX",
        "outputId": "ad1e689e-9d04-4391-ed00-1f30de22e9ea",
        "colab": {
          "base_uri": "https://localhost:8080/"
        }
      },
      "execution_count": 7,
      "outputs": [
        {
          "output_type": "stream",
          "name": "stdout",
          "text": [
            "Enter number of friends: 0\n",
            "[]\n"
          ]
        }
      ]
    },
    {
      "cell_type": "code",
      "source": [
        "## -> only numbers no type-casting\n",
        "__list = []\n",
        "\n",
        "for i in range (3):\n",
        "  __list.append(input(\"Enter a number: \"))\n",
        "print(__list)\n",
        "\n",
        "__list.remove('80')\n",
        "print(__list)\n",
        "\n",
        "__list.pop()\n",
        "print(__list)\n",
        "\n",
        "__list = ['60','70','80','90']\n",
        "__list.pop(3)\n",
        "print(__list)\n",
        "\n",
        "__list.clear()\n",
        "print(__list)"
      ],
      "metadata": {
        "id": "BLMaLOmklpp2",
        "outputId": "006aa8dc-0ddb-4893-c7b5-e6ac13e36e69",
        "colab": {
          "base_uri": "https://localhost:8080/"
        }
      },
      "execution_count": 14,
      "outputs": [
        {
          "output_type": "stream",
          "name": "stdout",
          "text": [
            "Enter a number: 60\n",
            "Enter a number: 70\n",
            "Enter a number: 80\n",
            "['60', '70', '80']\n",
            "['60', '70']\n",
            "['60']\n",
            "['60', '70', '80']\n",
            "[]\n"
          ]
        }
      ]
    },
    {
      "cell_type": "code",
      "source": [
        "student_list = ['John', 'Jane', 'Doe']\n",
        "filter = [x for x in student_list if x.startswith('J')]\n",
        "print(filter)"
      ],
      "metadata": {
        "id": "ZIjRh0eGqjHh",
        "outputId": "e5ca57e4-5587-4e08-8f2b-bad81334ede9",
        "colab": {
          "base_uri": "https://localhost:8080/"
        }
      },
      "execution_count": 15,
      "outputs": [
        {
          "output_type": "stream",
          "name": "stdout",
          "text": [
            "['John', 'Jane']\n"
          ]
        }
      ]
    },
    {
      "cell_type": "code",
      "source": [
        "# convert the 2d list data to 1d list data (flatten) using list comprehension\n",
        "__list = [['1', 'John', 'Doe'], ['2'], ['3', 'Jane']]\n",
        "flatten = [x for sublist in __list for x in sublist]\n",
        "print(flatten)"
      ],
      "metadata": {
        "id": "8_R5L447r_CO",
        "outputId": "89fca89b-ba84-4de2-e495-739ddaaaa63d",
        "colab": {
          "base_uri": "https://localhost:8080/"
        }
      },
      "execution_count": 16,
      "outputs": [
        {
          "output_type": "stream",
          "name": "stdout",
          "text": [
            "['1', 'John', 'Doe', '2', '3', 'Jane']\n"
          ]
        }
      ]
    },
    {
      "cell_type": "code",
      "source": [
        "colors = ['red', 'blue']\n",
        "car = ['audi', 'bmw']\n",
        "\n",
        "colored_cars = [(colx, cary) for colx in colors for cary in car]\n",
        "print(colored_cars)"
      ],
      "metadata": {
        "id": "v2f3syZSs5s4",
        "outputId": "c022bdc7-9c4b-4ab7-936a-4eacc8207736",
        "colab": {
          "base_uri": "https://localhost:8080/"
        }
      },
      "execution_count": 24,
      "outputs": [
        {
          "output_type": "stream",
          "name": "stdout",
          "text": [
            "[('red', 'audi'), ('red', 'bmw'), ('blue', 'audi'), ('blue', 'bmw')]\n"
          ]
        }
      ]
    },
    {
      "cell_type": "code",
      "source": [
        "even = [x for x in range(50+1) if x % 2 == 0]\n",
        "print(even)\n",
        "even[2:] = [10]\n",
        "print(even)"
      ],
      "metadata": {
        "id": "DDW9ljayt-eX",
        "outputId": "7111f97c-7dfb-41c6-b911-9a62aa8d9df0",
        "colab": {
          "base_uri": "https://localhost:8080/"
        }
      },
      "execution_count": 30,
      "outputs": [
        {
          "output_type": "stream",
          "name": "stdout",
          "text": [
            "[0, 2, 4, 6, 8, 10, 12, 14, 16, 18, 20, 22, 24, 26, 28, 30, 32, 34, 36, 38, 40, 42, 44, 46, 48, 50]\n",
            "[0, 2, 10]\n"
          ]
        }
      ]
    },
    {
      "cell_type": "code",
      "source": [
        "n = int(input(\"Enter the number of terms: \"))\n",
        "expected_sum = n*(n+1) // 2\n",
        "_list = [int(input(f\"Enter number {i+1}: \")) for i in range(n)]\n",
        "experimental_sum = sum(_list)\n",
        "print(f\"Expected sum: {expected_sum}\")\n",
        "print(f\"Experimental sum: {experimental_sum}\")\n",
        "print(f\"Missing number:  {experimental_sum - expected_sum}\")"
      ],
      "metadata": {
        "id": "jH2LNWcYviiO",
        "outputId": "a07b5812-4e11-4fd1-9ef8-b76e7a131374",
        "colab": {
          "base_uri": "https://localhost:8080/"
        }
      },
      "execution_count": 33,
      "outputs": [
        {
          "output_type": "stream",
          "name": "stdout",
          "text": [
            "Enter the number of terms: 5\n",
            "Enter number 1: 2\n",
            "Enter number 2: 8\n",
            "Enter number 3: 4\n",
            "Enter number 4: 2\n",
            "Enter number 5: 3\n",
            "Expected sum: 15\n",
            "Experimental sum: 19\n",
            "Missing number:  4\n"
          ]
        }
      ]
    }
  ]
}