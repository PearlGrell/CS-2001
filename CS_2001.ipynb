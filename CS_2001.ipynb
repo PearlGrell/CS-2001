{
  "nbformat": 4,
  "nbformat_minor": 0,
  "metadata": {
    "colab": {
      "provenance": [],
      "collapsed_sections": [
        "IcqMMs8o-BV8"
      ],
      "include_colab_link": true
    },
    "kernelspec": {
      "name": "python3",
      "display_name": "Python 3"
    },
    "language_info": {
      "name": "python"
    }
  },
  "cells": [
    {
      "cell_type": "markdown",
      "metadata": {
        "id": "view-in-github",
        "colab_type": "text"
      },
      "source": [
        "<a href=\"https://colab.research.google.com/github/PearlGrell/CS-2001/blob/main/CS_2001.ipynb\" target=\"_parent\"><img src=\"https://colab.research.google.com/assets/colab-badge.svg\" alt=\"Open In Colab\"/></a>"
      ]
    },
    {
      "cell_type": "markdown",
      "source": [
        "# Unit 1: Data Types and Operators\n"
      ],
      "metadata": {
        "id": "fUeHgfGk96i2"
      }
    },
    {
      "cell_type": "markdown",
      "source": [
        "## 1. Swapping Two Variables\n",
        "\n",
        "**Question:** Thor and Hulk are competing in a strength test. The scores are scored in variables. Swap their scores using only Python variables."
      ],
      "metadata": {
        "id": "IcqMMs8o-BV8"
      }
    },
    {
      "cell_type": "code",
      "source": [
        "thor : int = int(input(\"Enter Thor's score: \"))\n",
        "hulk : int = int(input(\"Enter Hulk's score: \"))\n",
        "\n",
        "print(\"Before swapping:\")\n",
        "print(\"Thor's score:\", thor)\n",
        "print(\"Hulk's score:\", hulk)\n",
        "\n",
        "thor, hulk = hulk, thor\n",
        "\n",
        "print(\"After swapping:\")\n",
        "print(\"Thor's score:\", thor)\n",
        "print(\"Hulk's score:\", hulk)"
      ],
      "metadata": {
        "colab": {
          "base_uri": "https://localhost:8080/"
        },
        "id": "Uqm5TeCg_Ki4",
        "outputId": "f1fea971-602c-4f3c-8426-9496f6e36ea1"
      },
      "execution_count": null,
      "outputs": [
        {
          "output_type": "stream",
          "name": "stdout",
          "text": [
            "Enter Thor's score: 50\n",
            "Enter Hulk's score: 52\n",
            "Before swapping:\n",
            "Thor's score: 50\n",
            "Hulk's score: 52\n",
            "After swapping:\n",
            "Thor's score: 52\n",
            "Hulk's score: 50\n"
          ]
        }
      ]
    },
    {
      "cell_type": "markdown",
      "source": [
        "## 2. Hulk's Strength\n",
        "**Question:** Hulk strength level is recorded as a string input 1000. Convert it into an integer and increase it by 200."
      ],
      "metadata": {
        "id": "GS2OfpNR_8WV"
      }
    },
    {
      "cell_type": "code",
      "source": [
        "strength = \"1000\"\n",
        "strength = int(strength)\n",
        "strength += 200\n",
        "print(f\"Hulk's strength is {strength}\")"
      ],
      "metadata": {
        "colab": {
          "base_uri": "https://localhost:8080/"
        },
        "id": "kpSDTQdKDMjm",
        "outputId": "d8c016c6-88c4-41d2-d886-d86fcc8d3c48"
      },
      "execution_count": null,
      "outputs": [
        {
          "output_type": "stream",
          "name": "stdout",
          "text": [
            "Hulk's strength is 1200\n"
          ]
        }
      ]
    },
    {
      "cell_type": "markdown",
      "source": [
        "## 3. Gravitational **Force**\n",
        "\n",
        "**Question:** Thor's hammer weight is 5000 (int), but you need to calculate the gravitation force, which requires it as float.\n"
      ],
      "metadata": {
        "id": "IhnpdUHlA4vO"
      }
    },
    {
      "cell_type": "code",
      "source": [
        "weight = 5000\n",
        "force = 9.8 * 5000\n",
        "print(f\"Gravitational force is {force:.2f} N\")"
      ],
      "metadata": {
        "colab": {
          "base_uri": "https://localhost:8080/"
        },
        "id": "iM4XIrPoC3Ga",
        "outputId": "dd69354e-4e57-4b2f-bdda-4c9a157384de"
      },
      "execution_count": null,
      "outputs": [
        {
          "output_type": "stream",
          "name": "stdout",
          "text": [
            "Gravitational force is 49000.00 N\n"
          ]
        }
      ]
    },
    {
      "cell_type": "markdown",
      "source": [
        "## 4. Seconds to Hours\n",
        "\n",
        "**Question:** Loki gets input in seconds: \"3600\". Convert it to an integer and then to hours. Show final result as a float."
      ],
      "metadata": {
        "id": "cGekJ_JlBIax"
      }
    },
    {
      "cell_type": "code",
      "source": [
        "second = \"3600\"\n",
        "second = int(second)\n",
        "hour = second / 3600\n",
        "print(f\"Time in hours: {hour:.2f}\")"
      ],
      "metadata": {
        "colab": {
          "base_uri": "https://localhost:8080/"
        },
        "id": "CXIiRZ7YCtUh",
        "outputId": "7a1fcca6-f8da-4ca9-a9e1-b8daff5dcc0d"
      },
      "execution_count": null,
      "outputs": [
        {
          "output_type": "stream",
          "name": "stdout",
          "text": [
            "Time in hours: 1.00\n"
          ]
        }
      ]
    },
    {
      "cell_type": "markdown",
      "source": [
        "## 5. Find Accuracy\n",
        "\n",
        "**Question:** Iron Man recorded 7 hits out of 10 shots, both integers. Convert them into float and calculate the accuracy percentage."
      ],
      "metadata": {
        "id": "aDHk4IFnBV-H"
      }
    },
    {
      "cell_type": "code",
      "source": [
        "hit = 7\n",
        "total = 10\n",
        "\n",
        "hit = float(hit)\n",
        "total = float(total)\n",
        "\n",
        "accuracy = (hit / total) * 100\n",
        "\n",
        "print(f\"Accuracy is {accuracy:.2f}%\")"
      ],
      "metadata": {
        "colab": {
          "base_uri": "https://localhost:8080/"
        },
        "id": "D2kn80D_Cgk2",
        "outputId": "c99ad37a-dde9-4ba6-f8e1-f24498626394"
      },
      "execution_count": null,
      "outputs": [
        {
          "output_type": "stream",
          "name": "stdout",
          "text": [
            "Accuracy is 70.00%\n"
          ]
        }
      ]
    },
    {
      "cell_type": "markdown",
      "source": [
        "## Object Referencing\n",
        "\n",
        "1. Python variables hold references to an objects, not the actual object themselves.\n",
        "2. Reassigning a variable does not affect other variables referencing the same object unless explicitly updated.\n"
      ],
      "metadata": {
        "id": "mJId0osWEXPj"
      }
    },
    {
      "cell_type": "code",
      "source": [
        "# Example 1\n",
        "a = [1,2,3]\n",
        "b = a\n",
        "print(\"a original: \", a)\n",
        "\n",
        "b.append(4)\n",
        "\n",
        "print(\"a new: \", b)\n",
        "print(\"b: \", a)"
      ],
      "metadata": {
        "colab": {
          "base_uri": "https://localhost:8080/"
        },
        "id": "saeiDZSzG4hh",
        "outputId": "cec7ae16-9146-4292-8864-6f705eb1a114"
      },
      "execution_count": 3,
      "outputs": [
        {
          "output_type": "stream",
          "name": "stdout",
          "text": [
            "a original:  [1, 2, 3]\n",
            "a new:  [1, 2, 3, 4]\n",
            "b:  [1, 2, 3, 4]\n"
          ]
        }
      ]
    },
    {
      "cell_type": "code",
      "source": [
        "# Example 2\n",
        "shield = ['vibranium', 'round']\n",
        "shield_copy = shield\n",
        "\n",
        "print (\"Original shield is \", shield)\n",
        "print(\"Wolverine changes the material of shield\")\n",
        "\n",
        "shield_copy[0] = 'adamantium'\n",
        "print(\"New shield\", shield)"
      ],
      "metadata": {
        "id": "ZmOw3wXVHzAx",
        "outputId": "dd746ef1-dbab-4524-e118-0d255adde314",
        "colab": {
          "base_uri": "https://localhost:8080/"
        }
      },
      "execution_count": 6,
      "outputs": [
        {
          "output_type": "stream",
          "name": "stdout",
          "text": [
            "Original shield is  ['vibranium', 'round']\n",
            "Wolverine changes the material of shield\n",
            "New shield ['adamantium', 'round']\n"
          ]
        }
      ]
    },
    {
      "cell_type": "markdown",
      "source": [
        "### Removing a Variable"
      ],
      "metadata": {
        "id": "D7BljjJNLFrh"
      }
    },
    {
      "cell_type": "code",
      "source": [
        "a = 10\n",
        "del a\n",
        "print(a)"
      ],
      "metadata": {
        "id": "ukP5XBdbLBWR",
        "outputId": "47941726-5570-4bda-8ef9-e879d2d04e3b",
        "colab": {
          "base_uri": "https://localhost:8080/",
          "height": 176
        }
      },
      "execution_count": 8,
      "outputs": [
        {
          "output_type": "error",
          "ename": "NameError",
          "evalue": "name 'a' is not defined",
          "traceback": [
            "\u001b[0;31m---------------------------------------------------------------------------\u001b[0m",
            "\u001b[0;31mNameError\u001b[0m                                 Traceback (most recent call last)",
            "\u001b[0;32m/tmp/ipython-input-1529759680.py\u001b[0m in \u001b[0;36m<cell line: 0>\u001b[0;34m()\u001b[0m\n\u001b[1;32m      1\u001b[0m \u001b[0ma\u001b[0m \u001b[0;34m=\u001b[0m \u001b[0;36m10\u001b[0m\u001b[0;34m\u001b[0m\u001b[0;34m\u001b[0m\u001b[0m\n\u001b[1;32m      2\u001b[0m \u001b[0;32mdel\u001b[0m \u001b[0ma\u001b[0m\u001b[0;34m\u001b[0m\u001b[0;34m\u001b[0m\u001b[0m\n\u001b[0;32m----> 3\u001b[0;31m \u001b[0mprint\u001b[0m\u001b[0;34m(\u001b[0m\u001b[0ma\u001b[0m\u001b[0;34m)\u001b[0m\u001b[0;34m\u001b[0m\u001b[0;34m\u001b[0m\u001b[0m\n\u001b[0m",
            "\u001b[0;31mNameError\u001b[0m: name 'a' is not defined"
          ]
        }
      ]
    },
    {
      "cell_type": "code",
      "source": [
        "x = ['apple', 'banana', 'orange', 'dragonfruit', 'kiwi', 'pineapple']\n",
        "del x[1]\n",
        "print(x)\n",
        "del x[2:4]\n",
        "print(x)"
      ],
      "metadata": {
        "id": "P-T7ahfHLXdq",
        "outputId": "33c4f1fe-7f09-44d8-9635-857062dd489e",
        "colab": {
          "base_uri": "https://localhost:8080/"
        }
      },
      "execution_count": 17,
      "outputs": [
        {
          "output_type": "stream",
          "name": "stdout",
          "text": [
            "['apple', 'orange', 'dragonfruit', 'kiwi', 'pineapple']\n",
            "['apple', 'orange', 'pineapple']\n"
          ]
        }
      ]
    }
  ]
}