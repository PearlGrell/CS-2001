{
  "nbformat": 4,
  "nbformat_minor": 0,
  "metadata": {
    "colab": {
      "provenance": [],
      "collapsed_sections": [
        "IcqMMs8o-BV8"
      ],
      "authorship_tag": "ABX9TyMBWCeWeHabRPUjsUbOUd1z",
      "include_colab_link": true
    },
    "kernelspec": {
      "name": "python3",
      "display_name": "Python 3"
    },
    "language_info": {
      "name": "python"
    }
  },
  "cells": [
    {
      "cell_type": "markdown",
      "metadata": {
        "id": "view-in-github",
        "colab_type": "text"
      },
      "source": [
        "<a href=\"https://colab.research.google.com/github/PearlGrell/CS-2001/blob/main/CS_2001.ipynb\" target=\"_parent\"><img src=\"https://colab.research.google.com/assets/colab-badge.svg\" alt=\"Open In Colab\"/></a>"
      ]
    },
    {
      "cell_type": "markdown",
      "source": [
        "# Unit 1: Data Types and Operators\n"
      ],
      "metadata": {
        "id": "fUeHgfGk96i2"
      }
    },
    {
      "cell_type": "markdown",
      "source": [
        "## 1. Swapping Two Variables\n",
        "\n",
        "**Question:** Thor and Hulk are competing in a strength test. The scores are scored in variables. Swap their scores using only Python variables."
      ],
      "metadata": {
        "id": "IcqMMs8o-BV8"
      }
    },
    {
      "cell_type": "code",
      "source": [
        "thor : int = int(input(\"Enter Thor's score: \"))\n",
        "hulk : int = int(input(\"Enter Hulk's score: \"))\n",
        "\n",
        "print(\"Before swapping:\")\n",
        "print(\"Thor's score:\", thor)\n",
        "print(\"Hulk's score:\", hulk)\n",
        "\n",
        "thor, hulk = hulk, thor\n",
        "\n",
        "print(\"After swapping:\")\n",
        "print(\"Thor's score:\", thor)\n",
        "print(\"Hulk's score:\", hulk)"
      ],
      "metadata": {
        "colab": {
          "base_uri": "https://localhost:8080/"
        },
        "id": "Uqm5TeCg_Ki4",
        "outputId": "f1fea971-602c-4f3c-8426-9496f6e36ea1"
      },
      "execution_count": 2,
      "outputs": [
        {
          "output_type": "stream",
          "name": "stdout",
          "text": [
            "Enter Thor's score: 50\n",
            "Enter Hulk's score: 52\n",
            "Before swapping:\n",
            "Thor's score: 50\n",
            "Hulk's score: 52\n",
            "After swapping:\n",
            "Thor's score: 52\n",
            "Hulk's score: 50\n"
          ]
        }
      ]
    },
    {
      "cell_type": "markdown",
      "source": [
        "## 2. Hulk's Strength\n",
        "**Question:** Hulk strength level is recorded as a string input 1000. Convert it into an integer and increase it by 200."
      ],
      "metadata": {
        "id": "GS2OfpNR_8WV"
      }
    },
    {
      "cell_type": "code",
      "source": [
        "strength = \"1000\"\n",
        "strength = int(strength)\n",
        "strength += 200\n",
        "print(f\"Hulk's strength is {strength}\")"
      ],
      "metadata": {
        "colab": {
          "base_uri": "https://localhost:8080/"
        },
        "id": "kpSDTQdKDMjm",
        "outputId": "d8c016c6-88c4-41d2-d886-d86fcc8d3c48"
      },
      "execution_count": 6,
      "outputs": [
        {
          "output_type": "stream",
          "name": "stdout",
          "text": [
            "Hulk's strength is 1200\n"
          ]
        }
      ]
    },
    {
      "cell_type": "markdown",
      "source": [
        "## 3. Gravitational **Force**\n",
        "\n",
        "**Question:** Thor's hammer weight is 5000 (int), but you need to calculate the gravitation force, which requires it as float.\n"
      ],
      "metadata": {
        "id": "IhnpdUHlA4vO"
      }
    },
    {
      "cell_type": "code",
      "source": [
        "weight = 5000\n",
        "force = 9.8 * 5000\n",
        "print(f\"Gravitational force is {force:.2f} N\")"
      ],
      "metadata": {
        "colab": {
          "base_uri": "https://localhost:8080/"
        },
        "id": "iM4XIrPoC3Ga",
        "outputId": "dd69354e-4e57-4b2f-bdda-4c9a157384de"
      },
      "execution_count": 5,
      "outputs": [
        {
          "output_type": "stream",
          "name": "stdout",
          "text": [
            "Gravitational force is 49000.00 N\n"
          ]
        }
      ]
    },
    {
      "cell_type": "markdown",
      "source": [
        "## 4. Seconds to Hours\n",
        "\n",
        "**Question:** Loki gets input in seconds: \"3600\". Convert it to an integer and then to hours. Show final result as a float."
      ],
      "metadata": {
        "id": "cGekJ_JlBIax"
      }
    },
    {
      "cell_type": "code",
      "source": [
        "second = \"3600\"\n",
        "second = int(second)\n",
        "hour = second / 3600\n",
        "print(f\"Time in hours: {hour:.2f}\")"
      ],
      "metadata": {
        "colab": {
          "base_uri": "https://localhost:8080/"
        },
        "id": "CXIiRZ7YCtUh",
        "outputId": "7a1fcca6-f8da-4ca9-a9e1-b8daff5dcc0d"
      },
      "execution_count": 4,
      "outputs": [
        {
          "output_type": "stream",
          "name": "stdout",
          "text": [
            "Time in hours: 1.00\n"
          ]
        }
      ]
    },
    {
      "cell_type": "markdown",
      "source": [
        "## 5. Find Accuracy\n",
        "\n",
        "**Question:** Iron Man recorded 7 hits out of 10 shots, both integers. Convert them into float and calculate the accuracy percentage."
      ],
      "metadata": {
        "id": "aDHk4IFnBV-H"
      }
    },
    {
      "cell_type": "code",
      "source": [
        "hit = 7\n",
        "total = 10\n",
        "\n",
        "hit = float(hit)\n",
        "total = float(total)\n",
        "\n",
        "accuracy = (hit / total) * 100\n",
        "\n",
        "print(f\"Accuracy is {accuracy:.2f}%\")"
      ],
      "metadata": {
        "colab": {
          "base_uri": "https://localhost:8080/"
        },
        "id": "D2kn80D_Cgk2",
        "outputId": "c99ad37a-dde9-4ba6-f8e1-f24498626394"
      },
      "execution_count": 7,
      "outputs": [
        {
          "output_type": "stream",
          "name": "stdout",
          "text": [
            "Accuracy is 70.00%\n"
          ]
        }
      ]
    }
  ]
}